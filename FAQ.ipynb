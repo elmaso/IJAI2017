{
 "cells": [
  {
   "cell_type": "markdown",
   "metadata": {},
   "source": [
    "1. Q: What’s the format of time_stamp？\n",
    "A: The time format is unified as “yyyy-mm-dd hh:mi:ss”. “yyyy” indicates the year as a four-digit number; “mm” indicates the month, from 01 to 12; “dd” indicates the day, from 01 to 31. “hh” indicates the hour, from 0 to 23. “mi” indicates the minute, from 00 to 59. “ss” indicates the second, from 00 to 59. \n",
    "2.Q: What is “,,,” ?\n",
    "A: For example, “2,哈尔滨,64,19,,,1,超市便利店,超市,” can be translated to:\n",
    "Field\n",
    "Sample\n",
    "shop_id\n",
    "2\n",
    "city_name\n",
    "哈尔滨\n",
    "location_id\n",
    "64\n",
    "per_pay\n",
    "19\n",
    "score\n",
    "NULL\n",
    "comment_cnt\n",
    "NULL\n",
    "shop_level\n",
    "1\n",
    "cate_1_name\n",
    "超市便利店\n",
    "cate_2_name\n",
    "超市\n",
    "cate_3_name\n",
    "NULL\n",
    "3.Q: What’s the meaning of “NULL”？\n",
    "A: If there is no score / comment given by customers, the value of score / comment_cnt will be NULL. If there is no level 3 category, the value of cate_3_name will be NULL.\n",
    "4.Q: File encoding format？\n",
    "A: All data files are of utf-8 encoding.\n",
    "5.Q: Get NaN after submission ?\n",
    "A: NaN means an incorrect submission. Please refer to prediction_example.csv and check your content and format.\n",
    "i) shop_id should be an integer between 1 and 2000. Any absence or abnormal shop_id leads to NaN.\n",
    "ii) make sure that your prediction results are non-negative integers, and are not NULL.\n",
    "iii) make sure your file is saved as utf-8 without BOM\n",
    "6.Q：What will loss be if ground truth and prediction are both 0？\n",
    "A：0\n",
    "7.Q：Data time period problems？\n",
    "A：The specific time range for the “user_pay” table is 2015-06-26 06:00:00 to 2016-10-31 23:00:00.\n",
    "The specific time range for the “user_view” table is 2016-06-22 00:00:00 to 2016-10-31 23:00:00.\n",
    "“extra_user_view” is an additional user browsing data table, the data structure is the same with\n",
    "“user_view” table, the specific time range is 2016-02-01 00:00:00 to 2016-06-21 23:00:00.\n",
    "Due to any possible reasons, shops may be not in business. And that leads to a missing time period in “user_pay” table.\n",
    "We guarantee that in the forecast range 2016.11.01-2016.11.14, all businesses are in the normal operation.\n",
    "8.Q：Detailed data description？\n",
    "A：”user_pay” table is the user offline (non-take-away, but to store) consumption records using Alipay.\n",
    "“user_view” table is the user online browsing records on KouBei platform. Browsing behavior refers to the behavior of a click and visit to the shop details page.\n",
    "In “shop_info” table, the distance between shops in the same location_id is less than 2km, and location_id itself is meaningless.\n",
    "“shop_level” is the evaluation index for business-scale on KouBei platform. For example, the “shop_level” of an individual restaurant is lower than a large national chain store.\n",
    "9.Q：What if a customer paid 2 times in the same shop in a day？\n",
    "A：Each time a customer pays in a shop will be calculate as 1 customer flow. \n",
    "So we consider the customer flow as 2 in the above case.\n",
    "10.Q：Please describe the data sharing problem more specifically？\n",
    "A：First of all, data source must be shared, as well as processing idea。Secondly, whether you need to upload data depends.\n",
    "For example:\n",
    "The processed, publicly crawled data will be uploaded and submitted at the end of the session, and will be open to the public at the discretion of the participant.\n",
    "If you use paid data, do not have to upload. However open data source and processing idea are still needed."
   ]
  }
 ],
 "metadata": {
  "kernelspec": {
   "display_name": "Python 3",
   "language": "python",
   "name": "python3"
  },
  "language_info": {
   "codemirror_mode": {
    "name": "ipython",
    "version": 3
   },
   "file_extension": ".py",
   "mimetype": "text/x-python",
   "name": "python",
   "nbconvert_exporter": "python",
   "pygments_lexer": "ipython3",
   "version": "3.6.0"
  }
 },
 "nbformat": 4,
 "nbformat_minor": 2
}
